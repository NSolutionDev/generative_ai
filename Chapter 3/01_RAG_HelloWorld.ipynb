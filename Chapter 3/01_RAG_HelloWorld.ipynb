{
 "cells": [
  {
   "cell_type": "code",
   "execution_count": null,
   "id": "EGwkTx8QoUgL",
   "metadata": {
    "id": "EGwkTx8QoUgL"
   },
   "outputs": [],
   "source": [
    "api_key = \"ADD API KEY HERE\""
   ]
  },
  {
   "cell_type": "markdown",
   "id": "Di2BALdCoflA",
   "metadata": {
    "id": "Di2BALdCoflA"
   },
   "source": [
    "# 1.Install Lib"
   ]
  },
  {
   "cell_type": "code",
   "execution_count": null,
   "id": "9E3OhEX-oUKl",
   "metadata": {
    "id": "9E3OhEX-oUKl"
   },
   "outputs": [],
   "source": [
    "!pip install langchain==0.3.7\n",
    "!pip install langchain-openai==0.2.9\n",
    "!pip install langchain_community==0.3.13"
   ]
  },
  {
   "cell_type": "markdown",
   "id": "hF2NlPdho1kD",
   "metadata": {
    "id": "hF2NlPdho1kD"
   },
   "source": [
    "# 2.Create Simple RAG"
   ]
  },
  {
   "cell_type": "code",
   "execution_count": null,
   "id": "92cd0954-56c8-4b6e-965f-dce71295f2e8",
   "metadata": {
    "colab": {
     "base_uri": "https://localhost:8080/"
    },
    "executionInfo": {
     "elapsed": 7212,
     "status": "ok",
     "timestamp": 1735215970760,
     "user": {
      "displayName": "LUC NGUYEN MANH",
      "userId": "17963881608411381207"
     },
     "user_tz": -540
    },
    "id": "92cd0954-56c8-4b6e-965f-dce71295f2e8",
    "outputId": "dc098201-c1f3-4482-e230-036dd4e836db"
   },
   "outputs": [
    {
     "name": "stderr",
     "output_type": "stream",
     "text": [
      "WARNING:langchain_community.utils.user_agent:USER_AGENT environment variable not set, consider setting it to identify your requests.\n"
     ]
    }
   ],
   "source": [
    "import bs4\n",
    "from langchain_community.document_loaders import WebBaseLoader\n",
    "from langchain_core.documents import Document\n",
    "from langchain_text_splitters import RecursiveCharacterTextSplitter\n",
    "from langchain.prompts import PromptTemplate\n",
    "from langchain_openai import ChatOpenAI"
   ]
  },
  {
   "cell_type": "markdown",
   "id": "cf09a2a5-78ca-472f-a457-b449a807c127",
   "metadata": {
    "id": "cf09a2a5-78ca-472f-a457-b449a807c127"
   },
   "source": [
    "## 2.1. Indexing"
   ]
  },
  {
   "cell_type": "markdown",
   "id": "465a8276-13a2-463c-b2a0-d0d31a24791e",
   "metadata": {
    "id": "465a8276-13a2-463c-b2a0-d0d31a24791e"
   },
   "source": [
    "**Step 1**: Load"
   ]
  },
  {
   "cell_type": "code",
   "execution_count": null,
   "id": "76ab225e-1128-4ee3-bc92-9ff89e7388ca",
   "metadata": {
    "id": "76ab225e-1128-4ee3-bc92-9ff89e7388ca"
   },
   "outputs": [],
   "source": [
    "# Load and chunk contents of the blog\n",
    "loader = WebBaseLoader(\n",
    "    web_paths=(\"https://huyenchip.com/2021/02/27/why-not-join-a-startup.html\",),\n",
    "    bs_kwargs=dict(\n",
    "        parse_only=bs4.SoupStrainer(\n",
    "            class_=(\"post-content\", \"post-title\", \"post-header\")\n",
    "        )\n",
    "    ),\n",
    ")\n",
    "docs = loader.load()"
   ]
  },
  {
   "cell_type": "code",
   "execution_count": null,
   "id": "0GVsAA9Lo-RA",
   "metadata": {
    "colab": {
     "base_uri": "https://localhost:8080/"
    },
    "executionInfo": {
     "elapsed": 251,
     "status": "ok",
     "timestamp": 1735216008328,
     "user": {
      "displayName": "LUC NGUYEN MANH",
      "userId": "17963881608411381207"
     },
     "user_tz": -540
    },
    "id": "0GVsAA9Lo-RA",
    "outputId": "ba0eb276-be75-4026-f46c-f487132ac018"
   },
   "outputs": [
    {
     "name": "stdout",
     "output_type": "stream",
     "text": [
      "   • Chip Huyen\n",
      "\n",
      "\n",
      "In 2018, I wrote Career advice for recent Computer Science graduates about joining a big company instead of a startup after college.\n",
      "In 2019, when I left NVIDIA, I wrote Lessons learned after my first full-time job about leaving a big company for a startup.\n",
      "Now that I’ve left my first full-time job at a startup, I want to revisit the topic. This is based on some personal experien\n"
     ]
    }
   ],
   "source": [
    "print(docs[0].page_content[100:500])"
   ]
  },
  {
   "cell_type": "markdown",
   "id": "220ad5d4-f7af-4ab0-bf08-58e14eb5b6f7",
   "metadata": {
    "id": "220ad5d4-f7af-4ab0-bf08-58e14eb5b6f7"
   },
   "source": [
    "**Step 2: Split**  "
   ]
  },
  {
   "cell_type": "code",
   "execution_count": null,
   "id": "2b9c579a-c0fe-4fb3-bc7d-796ae4d51a4e",
   "metadata": {
    "id": "2b9c579a-c0fe-4fb3-bc7d-796ae4d51a4e"
   },
   "outputs": [],
   "source": [
    "text_splitter = RecursiveCharacterTextSplitter(chunk_size=400, chunk_overlap=10)\n",
    "all_splits = text_splitter.split_documents(docs)"
   ]
  },
  {
   "cell_type": "code",
   "execution_count": null,
   "id": "5-6AMxagZ27r",
   "metadata": {
    "colab": {
     "base_uri": "https://localhost:8080/"
    },
    "executionInfo": {
     "elapsed": 228,
     "status": "ok",
     "timestamp": 1735216038302,
     "user": {
      "displayName": "LUC NGUYEN MANH",
      "userId": "17963881608411381207"
     },
     "user_tz": -540
    },
    "id": "5-6AMxagZ27r",
    "outputId": "64fc9119-3775-4e4f-acf0-f4f4c4a80fc2"
   },
   "outputs": [
    {
     "data": {
      "text/plain": [
       "64"
      ]
     },
     "execution_count": 7,
     "metadata": {},
     "output_type": "execute_result"
    }
   ],
   "source": [
    "len(all_splits)"
   ]
  },
  {
   "cell_type": "code",
   "execution_count": null,
   "id": "Ml-t3jFy79Mn",
   "metadata": {
    "colab": {
     "base_uri": "https://localhost:8080/",
     "height": 53
    },
    "executionInfo": {
     "elapsed": 241,
     "status": "ok",
     "timestamp": 1735216062942,
     "user": {
      "displayName": "LUC NGUYEN MANH",
      "userId": "17963881608411381207"
     },
     "user_tz": -540
    },
    "id": "Ml-t3jFy79Mn",
    "outputId": "813a3b49-c962-4259-ccf8-dc66a83d22e5"
   },
   "outputs": [
    {
     "data": {
      "application/vnd.google.colaboratory.intrinsic+json": {
       "type": "string"
      },
      "text/plain": [
       "'In 2018, I wrote Career advice for recent Computer Science graduates about joining a big company instead of a startup after college.\\nIn 2019, when I left NVIDIA, I wrote Lessons learned after my first full-time job about leaving a big company for a startup.'"
      ]
     },
     "execution_count": 9,
     "metadata": {},
     "output_type": "execute_result"
    }
   ],
   "source": [
    "all_splits[1].page_content"
   ]
  },
  {
   "cell_type": "code",
   "execution_count": null,
   "id": "-4L4gx1jZ40n",
   "metadata": {
    "colab": {
     "base_uri": "https://localhost:8080/",
     "height": 89
    },
    "executionInfo": {
     "elapsed": 248,
     "status": "ok",
     "timestamp": 1735216049975,
     "user": {
      "displayName": "LUC NGUYEN MANH",
      "userId": "17963881608411381207"
     },
     "user_tz": -540
    },
    "id": "-4L4gx1jZ40n",
    "outputId": "97a10580-4db7-423d-9c71-59daeada5ddc"
   },
   "outputs": [
    {
     "data": {
      "application/vnd.google.colaboratory.intrinsic+json": {
       "type": "string"
      },
      "text/plain": [
       "'Nobody told me how to spend my time, but when everyone else worked over the weekend and responded to my Slack messages any time of the night, I wanted to do the same. Nobody forced me to take on a hefty task that would require me to cancel plans with friends, but I also knew that everybody else had their hands full and if I didn’t do it, we wouldn’t be able to finish this feature on time and the'"
      ]
     },
     "execution_count": 8,
     "metadata": {},
     "output_type": "execute_result"
    }
   ],
   "source": [
    "all_splits[8].page_content"
   ]
  },
  {
   "cell_type": "code",
   "execution_count": null,
   "id": "Y51ujgwhaF8S",
   "metadata": {
    "colab": {
     "base_uri": "https://localhost:8080/",
     "height": 35
    },
    "executionInfo": {
     "elapsed": 239,
     "status": "ok",
     "timestamp": 1735216118983,
     "user": {
      "displayName": "LUC NGUYEN MANH",
      "userId": "17963881608411381207"
     },
     "user_tz": -540
    },
    "id": "Y51ujgwhaF8S",
    "outputId": "454d30b7-0d6a-4796-cb5a-2b3d1451e051"
   },
   "outputs": [
    {
     "data": {
      "application/vnd.google.colaboratory.intrinsic+json": {
       "type": "string"
      },
      "text/plain": [
       "'and the company would lose a contract or even die.'"
      ]
     },
     "execution_count": 10,
     "metadata": {},
     "output_type": "execute_result"
    }
   ],
   "source": [
    "all_splits[9].page_content"
   ]
  },
  {
   "cell_type": "markdown",
   "id": "2c3e2b95-9262-4375-82a6-79c20fbf93ae",
   "metadata": {
    "id": "2c3e2b95-9262-4375-82a6-79c20fbf93ae"
   },
   "source": [
    "**Step 3:** Storage"
   ]
  },
  {
   "cell_type": "code",
   "execution_count": null,
   "id": "8b3c3157-4774-4916-b395-a06c57da4940",
   "metadata": {
    "id": "8b3c3157-4774-4916-b395-a06c57da4940"
   },
   "outputs": [],
   "source": [
    "from langchain_core.vectorstores import InMemoryVectorStore\n",
    "from langchain_openai import OpenAIEmbeddings\n",
    "\n",
    "# Setup Vector Database\n",
    "embeddings = OpenAIEmbeddings(model=\"text-embedding-3-large\", api_key=api_key)\n",
    "vector_store = InMemoryVectorStore(embeddings)"
   ]
  },
  {
   "cell_type": "code",
   "execution_count": null,
   "id": "9ca19220-b366-4518-892c-0bd4a3164184",
   "metadata": {
    "id": "9ca19220-b366-4518-892c-0bd4a3164184"
   },
   "outputs": [],
   "source": [
    "_ = vector_store.add_documents(documents=all_splits)"
   ]
  },
  {
   "cell_type": "markdown",
   "id": "655a841f-0609-4245-94e6-378e0b193950",
   "metadata": {
    "id": "655a841f-0609-4245-94e6-378e0b193950"
   },
   "source": [
    "## 2.2 Retrieval"
   ]
  },
  {
   "cell_type": "code",
   "execution_count": null,
   "id": "0da94af4-b02c-4774-8cc6-f5436ab14bc5",
   "metadata": {
    "id": "0da94af4-b02c-4774-8cc6-f5436ab14bc5"
   },
   "outputs": [],
   "source": [
    "question = \"What is the main reason to join a startup company?\""
   ]
  },
  {
   "cell_type": "markdown",
   "id": "8ead563c-3ab5-413d-a970-523437bf5d81",
   "metadata": {
    "id": "8ead563c-3ab5-413d-a970-523437bf5d81"
   },
   "source": [
    "**Step 1** Retrival"
   ]
  },
  {
   "cell_type": "code",
   "execution_count": null,
   "id": "0f8ca9ad-e547-4242-9210-031bf2d1a1f1",
   "metadata": {
    "id": "0f8ca9ad-e547-4242-9210-031bf2d1a1f1",
    "scrolled": true
   },
   "outputs": [],
   "source": [
    "retrieved_docs = vector_store.similarity_search(question, k=2)\n",
    "retrieved_docs_str = \"\\n\\n\".join(doc.page_content for doc in retrieved_docs)"
   ]
  },
  {
   "cell_type": "code",
   "execution_count": null,
   "id": "cc190d98-5277-459e-b4b3-0157de506c0f",
   "metadata": {
    "colab": {
     "base_uri": "https://localhost:8080/"
    },
    "executionInfo": {
     "elapsed": 247,
     "status": "ok",
     "timestamp": 1735216272804,
     "user": {
      "displayName": "LUC NGUYEN MANH",
      "userId": "17963881608411381207"
     },
     "user_tz": -540
    },
    "id": "cc190d98-5277-459e-b4b3-0157de506c0f",
    "outputId": "213e96c0-0c1b-4269-d20d-c0ded27ffa10"
   },
   "outputs": [
    {
     "name": "stdout",
     "output_type": "stream",
     "text": [
      "One reason to join a startup\n",
      "There are many reasons not to join a startup. You just need one good reason to join. The reason is that it’s all worth it. I once read somewhere that joining startups is the only way to get 15 years of experience in 5 years. I couldn’t agree more.\n",
      "\n",
      "This can actually be a reason why you should join a startup – you’ll learn to stick out for yourself. If you know what you want and are proactive about it, you might even be able to assume a leadership role after a very short period of time. Joining a startup can also be a much faster way to climb big co’s ladders. For example, after 3 years at a startup, you became a team lead of 15 engineers,\n"
     ]
    }
   ],
   "source": [
    "print(retrieved_docs_str)"
   ]
  },
  {
   "cell_type": "markdown",
   "id": "60b41aba-ce0d-40e4-af53-e58257c1df08",
   "metadata": {
    "id": "60b41aba-ce0d-40e4-af53-e58257c1df08"
   },
   "source": [
    "**Step 2**: Generate answer"
   ]
  },
  {
   "cell_type": "code",
   "execution_count": null,
   "id": "e80c58d0-b679-408b-8c8e-d7dd3f2c473d",
   "metadata": {
    "id": "e80c58d0-b679-408b-8c8e-d7dd3f2c473d"
   },
   "outputs": [],
   "source": [
    "template = \"\"\"\n",
    "Answer my question based on the context.\n",
    "\n",
    "Question: {question}\n",
    "Context: {context}\n",
    "\"\"\"\n",
    "prompt = PromptTemplate(input_variables=[\"question\", \"context\"], template=template)\n",
    "\n",
    "llm = ChatOpenAI(model=\"gpt-4o-mini\", api_key=api_key)"
   ]
  },
  {
   "cell_type": "code",
   "execution_count": null,
   "id": "cd44be1b-226b-42f9-af53-2ff91492b452",
   "metadata": {
    "id": "cd44be1b-226b-42f9-af53-2ff91492b452"
   },
   "outputs": [],
   "source": [
    "messages = prompt.invoke({\"question\": question, \"context\": retrieved_docs})\n",
    "response = llm.invoke(messages)"
   ]
  },
  {
   "cell_type": "code",
   "execution_count": null,
   "id": "4f9001f7-1ff9-4280-8843-c38489922415",
   "metadata": {
    "colab": {
     "base_uri": "https://localhost:8080/"
    },
    "executionInfo": {
     "elapsed": 248,
     "status": "ok",
     "timestamp": 1735216334501,
     "user": {
      "displayName": "LUC NGUYEN MANH",
      "userId": "17963881608411381207"
     },
     "user_tz": -540
    },
    "id": "4f9001f7-1ff9-4280-8843-c38489922415",
    "outputId": "f28b8e7a-2c79-484c-d0a2-11436642841d"
   },
   "outputs": [
    {
     "name": "stdout",
     "output_type": "stream",
     "text": [
      "The main reason to join a startup company is that it offers the opportunity to gain extensive experience in a short amount of time, potentially achieving what would take many years in a traditional job setting. Joining a startup can accelerate personal and professional growth, allowing individuals to take on leadership roles and responsibilities sooner than they might in larger companies.\n"
     ]
    }
   ],
   "source": [
    "print(response.content)"
   ]
  },
  {
   "cell_type": "code",
   "execution_count": null,
   "id": "JhktHeCpd88W",
   "metadata": {
    "id": "JhktHeCpd88W"
   },
   "outputs": [],
   "source": []
  }
 ],
 "metadata": {
  "colab": {
   "provenance": [],
   "toc_visible": true
  },
  "kernelspec": {
   "display_name": "Python 3 (ipykernel)",
   "language": "python",
   "name": "python3"
  },
  "language_info": {
   "codemirror_mode": {
    "name": "ipython",
    "version": 3
   },
   "file_extension": ".py",
   "mimetype": "text/x-python",
   "name": "python",
   "nbconvert_exporter": "python",
   "pygments_lexer": "ipython3",
   "version": "3.9.19"
  }
 },
 "nbformat": 4,
 "nbformat_minor": 5
}

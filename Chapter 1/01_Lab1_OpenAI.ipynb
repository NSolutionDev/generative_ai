{
 "cells": [
  {
   "cell_type": "code",
   "execution_count": 1,
   "id": "hnOUmTQKYwQR",
   "metadata": {
    "executionInfo": {
     "elapsed": 978,
     "status": "ok",
     "timestamp": 1734958815423,
     "user": {
      "displayName": "LUC NGUYEN MANH",
      "userId": "17963881608411381207"
     },
     "user_tz": -540
    },
    "id": "hnOUmTQKYwQR"
   },
   "outputs": [],
   "source": [
    "openai_api_key = \"Please add open api key at here\""
   ]
  },
  {
   "cell_type": "markdown",
   "id": "qzhkNxmjYM1D",
   "metadata": {
    "id": "qzhkNxmjYM1D"
   },
   "source": [
    "# 1. Setup Lib"
   ]
  },
  {
   "cell_type": "code",
   "execution_count": null,
   "id": "gJPrjUvoYLAt",
   "metadata": {
    "colab": {
     "base_uri": "https://localhost:8080/"
    },
    "executionInfo": {
     "elapsed": 13366,
     "status": "ok",
     "timestamp": 1734958829732,
     "user": {
      "displayName": "LUC NGUYEN MANH",
      "userId": "17963881608411381207"
     },
     "user_tz": -540
    },
    "id": "gJPrjUvoYLAt",
    "outputId": "4782f0fb-a65a-4a08-8e3f-01485c674bf7"
   },
   "outputs": [],
   "source": [
    "!pip install openai"
   ]
  },
  {
   "cell_type": "markdown",
   "id": "8kNCee40YjtR",
   "metadata": {
    "id": "8kNCee40YjtR"
   },
   "source": [
    "# 2. Run Open AI API"
   ]
  },
  {
   "cell_type": "code",
   "execution_count": 11,
   "id": "749aa924-b262-4105-a4ad-ff6d7faaa296",
   "metadata": {
    "colab": {
     "base_uri": "https://localhost:8080/"
    },
    "executionInfo": {
     "elapsed": 2220,
     "status": "ok",
     "timestamp": 1734959009710,
     "user": {
      "displayName": "LUC NGUYEN MANH",
      "userId": "17963881608411381207"
     },
     "user_tz": -540
    },
    "id": "749aa924-b262-4105-a4ad-ff6d7faaa296",
    "outputId": "c3e9f55d-cd62-4fd9-c9d2-be7fb3afec29"
   },
   "outputs": [
    {
     "name": "stdout",
     "output_type": "stream",
     "text": [
      "Chào bạn! Tôi là một trí tuệ nhân tạo được phát triển bởi OpenAI, có tên là ChatGPT. Tôi được thiết kế để trả lời câu hỏi, cung cấp thông tin, hỗ trợ việc học tập, và giúp người dùng giải quyết vấn đề trong nhiều lĩnh vực khác nhau. Tôi có khả năng xử lý ngôn ngữ tự nhiên, vì vậy bạn có thể giao tiếp với tôi bằng cách sử dụng ngôn ngữ hàng ngày. Nếu bạn có bất kỳ câu hỏi nào hoặc cần sự trợ giúp, đừng ngần ngại hỏi nhé!"
     ]
    }
   ],
   "source": [
    "from openai import OpenAI\n",
    "\n",
    "# Define model\n",
    "client = OpenAI(api_key=openai_api_key)\n",
    "\n",
    "# Open AI API\n",
    "stream = client.chat.completions.create(\n",
    "    model=\"gpt-4o-mini\",\n",
    "    messages=[{\"role\": \"user\", \"content\": \"Hãy giới thiệu sơ qua về bạn\"}],\n",
    "    stream=True,\n",
    ")\n",
    "\n",
    "for chunk in stream:\n",
    "    if chunk.choices[0].delta.content is not None:\n",
    "        print(chunk.choices[0].delta.content, end=\"\")"
   ]
  },
  {
   "cell_type": "markdown",
   "id": "qBu7Sa4sYqEJ",
   "metadata": {
    "id": "qBu7Sa4sYqEJ"
   },
   "source": []
  }
 ],
 "metadata": {
  "colab": {
   "provenance": []
  },
  "kernelspec": {
   "display_name": "Python 3 (ipykernel)",
   "language": "python",
   "name": "python3"
  },
  "language_info": {
   "codemirror_mode": {
    "name": "ipython",
    "version": 3
   },
   "file_extension": ".py",
   "mimetype": "text/x-python",
   "name": "python",
   "nbconvert_exporter": "python",
   "pygments_lexer": "ipython3",
   "version": "3.9.19"
  }
 },
 "nbformat": 4,
 "nbformat_minor": 5
}

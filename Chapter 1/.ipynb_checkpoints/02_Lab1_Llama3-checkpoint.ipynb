{
 "cells": [
  {
   "cell_type": "code",
   "execution_count": 30,
   "id": "6a029053-872e-48fe-a69f-6e0f4133a84a",
   "metadata": {},
   "outputs": [],
   "source": [
    "import requests\n",
    "import json"
   ]
  },
  {
   "cell_type": "code",
   "execution_count": 31,
   "id": "c9d2d8ea-f8d9-4e09-ac18-733e6caec0f2",
   "metadata": {},
   "outputs": [
    {
     "name": "stdout",
     "output_type": "stream",
     "text": [
      "Response: Tôi là người mẫu trí tuệ nhân tạo tên là Llama. Llama là viết tắt của \"Mô hình ngôn ngữ lớn Meta AI\", tôi được phát triển bởi Meta, công ty đang nghiên cứu và phát triển các công nghệ khắp nơi trên internet.\n"
     ]
    }
   ],
   "source": [
    "# API Endpoint and URL\n",
    "api_url = \"http://127.0.0.1:1234/v1/chat/completions\"  # Replace with your actual API URL\n",
    "\n",
    "# Request Payload\n",
    "payload = {\n",
    "    \"model\": \"llama-3.2-3b-instruct\",\n",
    "    \"messages\": [\n",
    "        {\"role\": \"user\", \"content\": \"Hãy giới thiệu sơ qua về bạn\"}\n",
    "    ]\n",
    "}\n",
    "\n",
    "# Headers\n",
    "headers = {\n",
    "    \"Content-Type\": \"application/json\"  # Ensure JSON content type\n",
    "}\n",
    "\n",
    "# Make the API Request\n",
    "response = requests.post(api_url, headers=headers, json=payload)\n",
    "\n",
    "# Check for successful response\n",
    "if response.status_code == 200:\n",
    "    print(\"Response:\", response.json().get(\"choices\")[0].get('message').get(\"content\"))\n",
    "else:\n",
    "    print(\"Error:\", response.status_code, response.text)\n"
   ]
  }
 ],
 "metadata": {
  "kernelspec": {
   "display_name": "Python 3 (ipykernel)",
   "language": "python",
   "name": "python3"
  },
  "language_info": {
   "codemirror_mode": {
    "name": "ipython",
    "version": 3
   },
   "file_extension": ".py",
   "mimetype": "text/x-python",
   "name": "python",
   "nbconvert_exporter": "python",
   "pygments_lexer": "ipython3",
   "version": "3.9.20"
  }
 },
 "nbformat": 4,
 "nbformat_minor": 5
}

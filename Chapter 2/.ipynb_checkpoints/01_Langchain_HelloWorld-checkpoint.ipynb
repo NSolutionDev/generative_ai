{
 "cells": [
  {
   "cell_type": "code",
   "execution_count": 10,
   "id": "CEn8aOnvVZpW",
   "metadata": {
    "executionInfo": {
     "elapsed": 204,
     "status": "ok",
     "timestamp": 1735039315727,
     "user": {
      "displayName": "LUC NGUYEN MANH",
      "userId": "17963881608411381207"
     },
     "user_tz": -540
    },
    "id": "CEn8aOnvVZpW"
   },
   "outputs": [],
   "source": [
    "openai_api_key = \"Please add open ai key at here\""
   ]
  },
  {
   "cell_type": "markdown",
   "id": "-sAr0B8wVcAx",
   "metadata": {
    "id": "-sAr0B8wVcAx"
   },
   "source": [
    "# 1. Install Lib"
   ]
  },
  {
   "cell_type": "code",
   "execution_count": null,
   "id": "cCKu-1HsVZap",
   "metadata": {
    "id": "cCKu-1HsVZap"
   },
   "outputs": [],
   "source": [
    "!pip install langchain==0.3.7\n",
    "!pip install langchain-openai==0.2.9"
   ]
  },
  {
   "cell_type": "markdown",
   "id": "S9cEISV0VkJz",
   "metadata": {
    "id": "S9cEISV0VkJz"
   },
   "source": [
    "# 2. Create Application"
   ]
  },
  {
   "cell_type": "code",
   "execution_count": 8,
   "id": "4e07a4de-2237-4bd7-a5fb-132e29e5b2dc",
   "metadata": {
    "executionInfo": {
     "elapsed": 7609,
     "status": "ok",
     "timestamp": 1735039306569,
     "user": {
      "displayName": "LUC NGUYEN MANH",
      "userId": "17963881608411381207"
     },
     "user_tz": -540
    },
    "id": "4e07a4de-2237-4bd7-a5fb-132e29e5b2dc"
   },
   "outputs": [],
   "source": [
    "from langchain_openai import ChatOpenAI\n",
    "from langchain_core.prompts import ChatPromptTemplate"
   ]
  },
  {
   "cell_type": "code",
   "execution_count": 11,
   "id": "b5af5036-7ea3-4311-9019-c24027096d09",
   "metadata": {
    "executionInfo": {
     "elapsed": 1287,
     "status": "ok",
     "timestamp": 1735039319533,
     "user": {
      "displayName": "LUC NGUYEN MANH",
      "userId": "17963881608411381207"
     },
     "user_tz": -540
    },
    "id": "b5af5036-7ea3-4311-9019-c24027096d09"
   },
   "outputs": [],
   "source": [
    "# Step 1 : Initialize the OpenAI model\n",
    "model = ChatOpenAI(model=\"gpt-4o-mini\", api_key=openai_api_key)"
   ]
  },
  {
   "cell_type": "code",
   "execution_count": 12,
   "id": "374071bd-6e89-4cc0-ab80-8e6d055d2728",
   "metadata": {
    "executionInfo": {
     "elapsed": 226,
     "status": "ok",
     "timestamp": 1735039320801,
     "user": {
      "displayName": "LUC NGUYEN MANH",
      "userId": "17963881608411381207"
     },
     "user_tz": -540
    },
    "id": "374071bd-6e89-4cc0-ab80-8e6d055d2728"
   },
   "outputs": [],
   "source": [
    "# Step 2 : Define Prompt\n",
    "instruction = \"Translate the following from English into {language}\"\n",
    "\n",
    "prompt_template = ChatPromptTemplate.from_messages(\n",
    "    [(\"system\", instruction),\n",
    "     (\"user\", \"{text}\")]\n",
    ")"
   ]
  },
  {
   "cell_type": "code",
   "execution_count": 13,
   "id": "dd1e7566-2d7a-45e0-a8a7-7264dc5bac57",
   "metadata": {
    "executionInfo": {
     "elapsed": 1,
     "status": "ok",
     "timestamp": 1735039321299,
     "user": {
      "displayName": "LUC NGUYEN MANH",
      "userId": "17963881608411381207"
     },
     "user_tz": -540
    },
    "id": "dd1e7566-2d7a-45e0-a8a7-7264dc5bac57"
   },
   "outputs": [],
   "source": [
    "# Step 3 : Define chain\n",
    "chain = prompt_template | model"
   ]
  },
  {
   "cell_type": "code",
   "execution_count": 16,
   "id": "1bba392a-a8d5-4cf3-8ab0-38ef15d815ca",
   "metadata": {
    "colab": {
     "base_uri": "https://localhost:8080/"
    },
    "executionInfo": {
     "elapsed": 426,
     "status": "ok",
     "timestamp": 1735042931518,
     "user": {
      "displayName": "LUC NGUYEN MANH",
      "userId": "17963881608411381207"
     },
     "user_tz": -540
    },
    "id": "1bba392a-a8d5-4cf3-8ab0-38ef15d815ca",
    "outputId": "06b2b252-97e9-4a52-a17c-0b0093cada89"
   },
   "outputs": [
    {
     "name": "stdout",
     "output_type": "stream",
     "text": [
      "こんにちは！どこから来ましたか？\n"
     ]
    }
   ],
   "source": [
    "response = chain.invoke({\"language\": \"Japanese\", \"text\": \"hi! where are you come from?\"})\n",
    "print(response.content)"
   ]
  }
 ],
 "metadata": {
  "colab": {
   "provenance": []
  },
  "kernelspec": {
   "display_name": "Python 3 (ipykernel)",
   "language": "python",
   "name": "python3"
  },
  "language_info": {
   "codemirror_mode": {
    "name": "ipython",
    "version": 3
   },
   "file_extension": ".py",
   "mimetype": "text/x-python",
   "name": "python",
   "nbconvert_exporter": "python",
   "pygments_lexer": "ipython3",
   "version": "3.9.19"
  }
 },
 "nbformat": 4,
 "nbformat_minor": 5
}

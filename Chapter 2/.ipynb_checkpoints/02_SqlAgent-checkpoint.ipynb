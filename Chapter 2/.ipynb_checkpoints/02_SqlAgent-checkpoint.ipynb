{
 "cells": [
  {
   "cell_type": "code",
   "execution_count": 6,
   "id": "eGLB-2hQmQrX",
   "metadata": {
    "executionInfo": {
     "elapsed": 600,
     "status": "ok",
     "timestamp": 1735043765903,
     "user": {
      "displayName": "LUC NGUYEN MANH",
      "userId": "17963881608411381207"
     },
     "user_tz": -540
    },
    "id": "eGLB-2hQmQrX"
   },
   "outputs": [],
   "source": [
    "openai_api_key = \"Please add open ai api key at here\""
   ]
  },
  {
   "cell_type": "markdown",
   "id": "dc3be029-227d-4049-aedb-58e1c012b0a0",
   "metadata": {
    "id": "dc3be029-227d-4049-aedb-58e1c012b0a0"
   },
   "source": [
    "# 1.Prepare Database"
   ]
  },
  {
   "cell_type": "code",
   "execution_count": 1,
   "id": "bb661ac9-9284-4ad1-9917-35d1f0a8b35b",
   "metadata": {
    "executionInfo": {
     "elapsed": 957,
     "status": "ok",
     "timestamp": 1735043647692,
     "user": {
      "displayName": "LUC NGUYEN MANH",
      "userId": "17963881608411381207"
     },
     "user_tz": -540
    },
    "id": "bb661ac9-9284-4ad1-9917-35d1f0a8b35b"
   },
   "outputs": [],
   "source": [
    "# from sqlite_database import prepare_database\n",
    "import sqlite3\n",
    "import pandas as pd"
   ]
  },
  {
   "cell_type": "code",
   "execution_count": 2,
   "id": "35b3f984-7f05-4a11-ba6f-99e968c6409c",
   "metadata": {
    "colab": {
     "base_uri": "https://localhost:8080/"
    },
    "executionInfo": {
     "elapsed": 592,
     "status": "ok",
     "timestamp": 1735043660646,
     "user": {
      "displayName": "LUC NGUYEN MANH",
      "userId": "17963881608411381207"
     },
     "user_tz": -540
    },
    "id": "35b3f984-7f05-4a11-ba6f-99e968c6409c",
    "outputId": "46a1940f-0f8a-4fd5-fcf5-269eefffdc81"
   },
   "outputs": [
    {
     "name": "stdout",
     "output_type": "stream",
     "text": [
      "Database and table created successfully. Data inserted.\n"
     ]
    }
   ],
   "source": [
    "# Data for insertion\n",
    "data = [\n",
    "    (1, \"2024-11-01\", 80000, \"Ăn uống\", \"Chi tiêu\", \"Tiền mặt\", \"Ăn sáng phở\", \"Hoàn tất\", \"\"),\n",
    "    (2, \"2024-11-02\", 150000, \"Đi lại\", \"Chi tiêu\", \"Thẻ tín dụng\", \"Đổ xăng xe máy\", \"Hoàn tất\", \"\"),\n",
    "    (3, \"2024-11-03\", 200000, \"Giải trí\", \"Chi tiêu\", \"Ví điện tử\", \"Mua vé xem phim\", \"Hoàn tất\", \"\"),\n",
    "    (4, \"2024-11-04\", 50000, \"Ăn uống\", \"Chi tiêu\", \"Tiền mặt\", \"Uống cà phê\", \"Hoàn tất\", \"\"),\n",
    "    (5, \"2024-11-05\", 100000, \"Học tập\", \"Chi tiêu\", \"Chuyển khoản\", \"Mua sách\", \"Hoàn tất\", \"\"),\n",
    "    (6, \"2024-11-06\", 120000, \"Ăn uống\", \"Chi tiêu\", \"Thẻ tín dụng\", \"Ăn trưa cơm văn phòng\", \"Hoàn tất\", \"\"),\n",
    "    (7, \"2024-11-07\", 90000, \"Đi lại\", \"Chi tiêu\", \"Tiền mặt\", \"Đi taxi\", \"Hoàn tất\", \"\"),\n",
    "    (8, \"2024-11-08\", 70000, \"Ăn uống\", \"Chi tiêu\", \"Ví điện tử\", \"Mua trà sữa\", \"Hoàn tất\", \"\"),\n",
    "    (9, \"2024-11-09\", 200000, \"Mua sắm\", \"Chi tiêu\", \"Thẻ tín dụng\", \"Mua quần áo\", \"Hoàn tất\", \"\"),\n",
    "    (10, \"2024-11-10\", 50000, \"Ăn uống\", \"Chi tiêu\", \"Tiền mặt\", \"Ăn sáng bánh mì\", \"Hoàn tất\", \"\"),\n",
    "    (11, \"2024-11-11\", 150000, \"Giải trí\", \"Chi tiêu\", \"Chuyển khoản\", \"Mua game online\", \"Hoàn tất\", \"\"),\n",
    "    (12, \"2024-11-12\", 80000, \"Ăn uống\", \"Chi tiêu\", \"Ví điện tử\", \"Ăn tối bún chả\", \"Hoàn tất\", \"\"),\n",
    "    (13, \"2024-11-13\", 100000, \"Đi lại\", \"Chi tiêu\", \"Thẻ tín dụng\", \"Mua vé xe buýt tháng\", \"Hoàn tất\", \"\"),\n",
    "    (14, \"2024-11-14\", 60000, \"Ăn uống\", \"Chi tiêu\", \"Tiền mặt\", \"Uống sinh tố\", \"Hoàn tất\", \"\"),\n",
    "    (15, \"2024-11-15\", 200000, \"Học tập\", \"Chi tiêu\", \"Chuyển khoản\", \"Đóng học phí\", \"Hoàn tất\", \"\"),\n",
    "    (16, \"2024-11-16\", 90000, \"Ăn uống\", \"Chi tiêu\", \"Ví điện tử\", \"Mua bánh ngọt\", \"Hoàn tất\", \"\"),\n",
    "    (17, \"2024-11-17\", 150000, \"Mua sắm\", \"Chi tiêu\", \"Thẻ tín dụng\", \"Mua đồ gia dụng\", \"Hoàn tất\", \"\"),\n",
    "    (18, \"2024-11-18\", 70000, \"Ăn uống\", \"Chi tiêu\", \"Tiền mặt\", \"Ăn trưa bún bò\", \"Hoàn tất\", \"\"),\n",
    "    (19, \"2024-11-19\", 120000, \"Giải trí\", \"Chi tiêu\", \"Chuyển khoản\", \"Mua sách truyện\", \"Hoàn tất\", \"\"),\n",
    "    (20, \"2024-11-20\", 50000, \"Ăn uống\", \"Chi tiêu\", \"Ví điện tử\", \"Uống cà phê\", \"Hoàn tất\", \"\"),\n",
    "]\n",
    "\n",
    "# Connect to SQLite database (or create it if it doesn't exist)\n",
    "conn = sqlite3.connect(\"personal_expenses.db\")\n",
    "cursor = conn.cursor()\n",
    "\n",
    "# Create table\n",
    "cursor.execute(\"\"\"\n",
    "CREATE TABLE IF NOT EXISTS expenses (\n",
    "    transaction_id INTEGER PRIMARY KEY,\n",
    "    date TEXT,\n",
    "    amount INTEGER,\n",
    "    category TEXT,\n",
    "    type TEXT,\n",
    "    payment_method TEXT,\n",
    "    description TEXT,\n",
    "    status TEXT,\n",
    "    notes TEXT\n",
    ")\n",
    "\"\"\")\n",
    "\n",
    "# Insert data into the table\n",
    "cursor.executemany(\"\"\"\n",
    "INSERT INTO expenses (\n",
    "    transaction_id, date, amount, category, type, payment_method, description, status, notes\n",
    ") VALUES (?, ?, ?, ?, ?, ?, ?, ?, ?)\n",
    "\"\"\", data)\n",
    "\n",
    "# Commit and close connection\n",
    "conn.commit()\n",
    "conn.close()\n",
    "\n",
    "print(\"Database and table created successfully. Data inserted.\")"
   ]
  },
  {
   "cell_type": "markdown",
   "id": "10080c5a-603a-47cf-ada9-e6eb0f97fe11",
   "metadata": {
    "id": "10080c5a-603a-47cf-ada9-e6eb0f97fe11"
   },
   "source": [
    "**Sample Data**"
   ]
  },
  {
   "cell_type": "code",
   "execution_count": 3,
   "id": "d5f17dfa-6b01-44b3-8491-9af457b095e2",
   "metadata": {
    "colab": {
     "base_uri": "https://localhost:8080/",
     "height": 206
    },
    "executionInfo": {
     "elapsed": 380,
     "status": "ok",
     "timestamp": 1735043667674,
     "user": {
      "displayName": "LUC NGUYEN MANH",
      "userId": "17963881608411381207"
     },
     "user_tz": -540
    },
    "id": "d5f17dfa-6b01-44b3-8491-9af457b095e2",
    "outputId": "816f0cd1-eaa0-488f-a216-a374e31427d2"
   },
   "outputs": [
    {
     "data": {
      "application/vnd.google.colaboratory.intrinsic+json": {
       "summary": "{\n  \"name\": \"df\",\n  \"rows\": 20,\n  \"fields\": [\n    {\n      \"column\": \"transaction_id\",\n      \"properties\": {\n        \"dtype\": \"number\",\n        \"std\": 5,\n        \"min\": 1,\n        \"max\": 20,\n        \"num_unique_values\": 20,\n        \"samples\": [\n          1,\n          18,\n          16\n        ],\n        \"semantic_type\": \"\",\n        \"description\": \"\"\n      }\n    },\n    {\n      \"column\": \"date ID\",\n      \"properties\": {\n        \"dtype\": \"object\",\n        \"num_unique_values\": 20,\n        \"samples\": [\n          \"2024-11-01\",\n          \"2024-11-18\",\n          \"2024-11-16\"\n        ],\n        \"semantic_type\": \"\",\n        \"description\": \"\"\n      }\n    },\n    {\n      \"column\": \"amount\",\n      \"properties\": {\n        \"dtype\": \"number\",\n        \"std\": 50565,\n        \"min\": 50000,\n        \"max\": 200000,\n        \"num_unique_values\": 9,\n        \"samples\": [\n          70000,\n          150000,\n          120000\n        ],\n        \"semantic_type\": \"\",\n        \"description\": \"\"\n      }\n    },\n    {\n      \"column\": \"category\",\n      \"properties\": {\n        \"dtype\": \"category\",\n        \"num_unique_values\": 5,\n        \"samples\": [\n          \"\\u0110i l\\u1ea1i\",\n          \"Mua s\\u1eafm\",\n          \"Gi\\u1ea3i tr\\u00ed\"\n        ],\n        \"semantic_type\": \"\",\n        \"description\": \"\"\n      }\n    },\n    {\n      \"column\": \"type\",\n      \"properties\": {\n        \"dtype\": \"category\",\n        \"num_unique_values\": 1,\n        \"samples\": [\n          \"Chi ti\\u00eau\"\n        ],\n        \"semantic_type\": \"\",\n        \"description\": \"\"\n      }\n    },\n    {\n      \"column\": \"payment_method\",\n      \"properties\": {\n        \"dtype\": \"category\",\n        \"num_unique_values\": 4,\n        \"samples\": [\n          \"Th\\u1ebb t\\u00edn d\\u1ee5ng\"\n        ],\n        \"semantic_type\": \"\",\n        \"description\": \"\"\n      }\n    },\n    {\n      \"column\": \"description\",\n      \"properties\": {\n        \"dtype\": \"string\",\n        \"num_unique_values\": 19,\n        \"samples\": [\n          \"\\u0102n s\\u00e1ng ph\\u1edf\"\n        ],\n        \"semantic_type\": \"\",\n        \"description\": \"\"\n      }\n    },\n    {\n      \"column\": \"status\",\n      \"properties\": {\n        \"dtype\": \"category\",\n        \"num_unique_values\": 1,\n        \"samples\": [\n          \"Ho\\u00e0n t\\u1ea5t\"\n        ],\n        \"semantic_type\": \"\",\n        \"description\": \"\"\n      }\n    },\n    {\n      \"column\": \"note\",\n      \"properties\": {\n        \"dtype\": \"object\",\n        \"num_unique_values\": 1,\n        \"samples\": [\n          \"\"\n        ],\n        \"semantic_type\": \"\",\n        \"description\": \"\"\n      }\n    }\n  ]\n}",
       "type": "dataframe",
       "variable_name": "df"
      },
      "text/html": [
       "\n",
       "  <div id=\"df-a6f76606-4b52-4393-a3a7-b67d14d9842d\" class=\"colab-df-container\">\n",
       "    <div>\n",
       "<style scoped>\n",
       "    .dataframe tbody tr th:only-of-type {\n",
       "        vertical-align: middle;\n",
       "    }\n",
       "\n",
       "    .dataframe tbody tr th {\n",
       "        vertical-align: top;\n",
       "    }\n",
       "\n",
       "    .dataframe thead th {\n",
       "        text-align: right;\n",
       "    }\n",
       "</style>\n",
       "<table border=\"1\" class=\"dataframe\">\n",
       "  <thead>\n",
       "    <tr style=\"text-align: right;\">\n",
       "      <th></th>\n",
       "      <th>transaction_id</th>\n",
       "      <th>date ID</th>\n",
       "      <th>amount</th>\n",
       "      <th>category</th>\n",
       "      <th>type</th>\n",
       "      <th>payment_method</th>\n",
       "      <th>description</th>\n",
       "      <th>status</th>\n",
       "      <th>note</th>\n",
       "    </tr>\n",
       "  </thead>\n",
       "  <tbody>\n",
       "    <tr>\n",
       "      <th>0</th>\n",
       "      <td>1</td>\n",
       "      <td>2024-11-01</td>\n",
       "      <td>80000</td>\n",
       "      <td>Ăn uống</td>\n",
       "      <td>Chi tiêu</td>\n",
       "      <td>Tiền mặt</td>\n",
       "      <td>Ăn sáng phở</td>\n",
       "      <td>Hoàn tất</td>\n",
       "      <td></td>\n",
       "    </tr>\n",
       "    <tr>\n",
       "      <th>1</th>\n",
       "      <td>2</td>\n",
       "      <td>2024-11-02</td>\n",
       "      <td>150000</td>\n",
       "      <td>Đi lại</td>\n",
       "      <td>Chi tiêu</td>\n",
       "      <td>Thẻ tín dụng</td>\n",
       "      <td>Đổ xăng xe máy</td>\n",
       "      <td>Hoàn tất</td>\n",
       "      <td></td>\n",
       "    </tr>\n",
       "    <tr>\n",
       "      <th>2</th>\n",
       "      <td>3</td>\n",
       "      <td>2024-11-03</td>\n",
       "      <td>200000</td>\n",
       "      <td>Giải trí</td>\n",
       "      <td>Chi tiêu</td>\n",
       "      <td>Ví điện tử</td>\n",
       "      <td>Mua vé xem phim</td>\n",
       "      <td>Hoàn tất</td>\n",
       "      <td></td>\n",
       "    </tr>\n",
       "    <tr>\n",
       "      <th>3</th>\n",
       "      <td>4</td>\n",
       "      <td>2024-11-04</td>\n",
       "      <td>50000</td>\n",
       "      <td>Ăn uống</td>\n",
       "      <td>Chi tiêu</td>\n",
       "      <td>Tiền mặt</td>\n",
       "      <td>Uống cà phê</td>\n",
       "      <td>Hoàn tất</td>\n",
       "      <td></td>\n",
       "    </tr>\n",
       "    <tr>\n",
       "      <th>4</th>\n",
       "      <td>5</td>\n",
       "      <td>2024-11-05</td>\n",
       "      <td>100000</td>\n",
       "      <td>Học tập</td>\n",
       "      <td>Chi tiêu</td>\n",
       "      <td>Chuyển khoản</td>\n",
       "      <td>Mua sách</td>\n",
       "      <td>Hoàn tất</td>\n",
       "      <td></td>\n",
       "    </tr>\n",
       "  </tbody>\n",
       "</table>\n",
       "</div>\n",
       "    <div class=\"colab-df-buttons\">\n",
       "\n",
       "  <div class=\"colab-df-container\">\n",
       "    <button class=\"colab-df-convert\" onclick=\"convertToInteractive('df-a6f76606-4b52-4393-a3a7-b67d14d9842d')\"\n",
       "            title=\"Convert this dataframe to an interactive table.\"\n",
       "            style=\"display:none;\">\n",
       "\n",
       "  <svg xmlns=\"http://www.w3.org/2000/svg\" height=\"24px\" viewBox=\"0 -960 960 960\">\n",
       "    <path d=\"M120-120v-720h720v720H120Zm60-500h600v-160H180v160Zm220 220h160v-160H400v160Zm0 220h160v-160H400v160ZM180-400h160v-160H180v160Zm440 0h160v-160H620v160ZM180-180h160v-160H180v160Zm440 0h160v-160H620v160Z\"/>\n",
       "  </svg>\n",
       "    </button>\n",
       "\n",
       "  <style>\n",
       "    .colab-df-container {\n",
       "      display:flex;\n",
       "      gap: 12px;\n",
       "    }\n",
       "\n",
       "    .colab-df-convert {\n",
       "      background-color: #E8F0FE;\n",
       "      border: none;\n",
       "      border-radius: 50%;\n",
       "      cursor: pointer;\n",
       "      display: none;\n",
       "      fill: #1967D2;\n",
       "      height: 32px;\n",
       "      padding: 0 0 0 0;\n",
       "      width: 32px;\n",
       "    }\n",
       "\n",
       "    .colab-df-convert:hover {\n",
       "      background-color: #E2EBFA;\n",
       "      box-shadow: 0px 1px 2px rgba(60, 64, 67, 0.3), 0px 1px 3px 1px rgba(60, 64, 67, 0.15);\n",
       "      fill: #174EA6;\n",
       "    }\n",
       "\n",
       "    .colab-df-buttons div {\n",
       "      margin-bottom: 4px;\n",
       "    }\n",
       "\n",
       "    [theme=dark] .colab-df-convert {\n",
       "      background-color: #3B4455;\n",
       "      fill: #D2E3FC;\n",
       "    }\n",
       "\n",
       "    [theme=dark] .colab-df-convert:hover {\n",
       "      background-color: #434B5C;\n",
       "      box-shadow: 0px 1px 3px 1px rgba(0, 0, 0, 0.15);\n",
       "      filter: drop-shadow(0px 1px 2px rgba(0, 0, 0, 0.3));\n",
       "      fill: #FFFFFF;\n",
       "    }\n",
       "  </style>\n",
       "\n",
       "    <script>\n",
       "      const buttonEl =\n",
       "        document.querySelector('#df-a6f76606-4b52-4393-a3a7-b67d14d9842d button.colab-df-convert');\n",
       "      buttonEl.style.display =\n",
       "        google.colab.kernel.accessAllowed ? 'block' : 'none';\n",
       "\n",
       "      async function convertToInteractive(key) {\n",
       "        const element = document.querySelector('#df-a6f76606-4b52-4393-a3a7-b67d14d9842d');\n",
       "        const dataTable =\n",
       "          await google.colab.kernel.invokeFunction('convertToInteractive',\n",
       "                                                    [key], {});\n",
       "        if (!dataTable) return;\n",
       "\n",
       "        const docLinkHtml = 'Like what you see? Visit the ' +\n",
       "          '<a target=\"_blank\" href=https://colab.research.google.com/notebooks/data_table.ipynb>data table notebook</a>'\n",
       "          + ' to learn more about interactive tables.';\n",
       "        element.innerHTML = '';\n",
       "        dataTable['output_type'] = 'display_data';\n",
       "        await google.colab.output.renderOutput(dataTable, element);\n",
       "        const docLink = document.createElement('div');\n",
       "        docLink.innerHTML = docLinkHtml;\n",
       "        element.appendChild(docLink);\n",
       "      }\n",
       "    </script>\n",
       "  </div>\n",
       "\n",
       "\n",
       "<div id=\"df-cf3ad84f-7de3-4438-923b-fd327122f025\">\n",
       "  <button class=\"colab-df-quickchart\" onclick=\"quickchart('df-cf3ad84f-7de3-4438-923b-fd327122f025')\"\n",
       "            title=\"Suggest charts\"\n",
       "            style=\"display:none;\">\n",
       "\n",
       "<svg xmlns=\"http://www.w3.org/2000/svg\" height=\"24px\"viewBox=\"0 0 24 24\"\n",
       "     width=\"24px\">\n",
       "    <g>\n",
       "        <path d=\"M19 3H5c-1.1 0-2 .9-2 2v14c0 1.1.9 2 2 2h14c1.1 0 2-.9 2-2V5c0-1.1-.9-2-2-2zM9 17H7v-7h2v7zm4 0h-2V7h2v10zm4 0h-2v-4h2v4z\"/>\n",
       "    </g>\n",
       "</svg>\n",
       "  </button>\n",
       "\n",
       "<style>\n",
       "  .colab-df-quickchart {\n",
       "      --bg-color: #E8F0FE;\n",
       "      --fill-color: #1967D2;\n",
       "      --hover-bg-color: #E2EBFA;\n",
       "      --hover-fill-color: #174EA6;\n",
       "      --disabled-fill-color: #AAA;\n",
       "      --disabled-bg-color: #DDD;\n",
       "  }\n",
       "\n",
       "  [theme=dark] .colab-df-quickchart {\n",
       "      --bg-color: #3B4455;\n",
       "      --fill-color: #D2E3FC;\n",
       "      --hover-bg-color: #434B5C;\n",
       "      --hover-fill-color: #FFFFFF;\n",
       "      --disabled-bg-color: #3B4455;\n",
       "      --disabled-fill-color: #666;\n",
       "  }\n",
       "\n",
       "  .colab-df-quickchart {\n",
       "    background-color: var(--bg-color);\n",
       "    border: none;\n",
       "    border-radius: 50%;\n",
       "    cursor: pointer;\n",
       "    display: none;\n",
       "    fill: var(--fill-color);\n",
       "    height: 32px;\n",
       "    padding: 0;\n",
       "    width: 32px;\n",
       "  }\n",
       "\n",
       "  .colab-df-quickchart:hover {\n",
       "    background-color: var(--hover-bg-color);\n",
       "    box-shadow: 0 1px 2px rgba(60, 64, 67, 0.3), 0 1px 3px 1px rgba(60, 64, 67, 0.15);\n",
       "    fill: var(--button-hover-fill-color);\n",
       "  }\n",
       "\n",
       "  .colab-df-quickchart-complete:disabled,\n",
       "  .colab-df-quickchart-complete:disabled:hover {\n",
       "    background-color: var(--disabled-bg-color);\n",
       "    fill: var(--disabled-fill-color);\n",
       "    box-shadow: none;\n",
       "  }\n",
       "\n",
       "  .colab-df-spinner {\n",
       "    border: 2px solid var(--fill-color);\n",
       "    border-color: transparent;\n",
       "    border-bottom-color: var(--fill-color);\n",
       "    animation:\n",
       "      spin 1s steps(1) infinite;\n",
       "  }\n",
       "\n",
       "  @keyframes spin {\n",
       "    0% {\n",
       "      border-color: transparent;\n",
       "      border-bottom-color: var(--fill-color);\n",
       "      border-left-color: var(--fill-color);\n",
       "    }\n",
       "    20% {\n",
       "      border-color: transparent;\n",
       "      border-left-color: var(--fill-color);\n",
       "      border-top-color: var(--fill-color);\n",
       "    }\n",
       "    30% {\n",
       "      border-color: transparent;\n",
       "      border-left-color: var(--fill-color);\n",
       "      border-top-color: var(--fill-color);\n",
       "      border-right-color: var(--fill-color);\n",
       "    }\n",
       "    40% {\n",
       "      border-color: transparent;\n",
       "      border-right-color: var(--fill-color);\n",
       "      border-top-color: var(--fill-color);\n",
       "    }\n",
       "    60% {\n",
       "      border-color: transparent;\n",
       "      border-right-color: var(--fill-color);\n",
       "    }\n",
       "    80% {\n",
       "      border-color: transparent;\n",
       "      border-right-color: var(--fill-color);\n",
       "      border-bottom-color: var(--fill-color);\n",
       "    }\n",
       "    90% {\n",
       "      border-color: transparent;\n",
       "      border-bottom-color: var(--fill-color);\n",
       "    }\n",
       "  }\n",
       "</style>\n",
       "\n",
       "  <script>\n",
       "    async function quickchart(key) {\n",
       "      const quickchartButtonEl =\n",
       "        document.querySelector('#' + key + ' button');\n",
       "      quickchartButtonEl.disabled = true;  // To prevent multiple clicks.\n",
       "      quickchartButtonEl.classList.add('colab-df-spinner');\n",
       "      try {\n",
       "        const charts = await google.colab.kernel.invokeFunction(\n",
       "            'suggestCharts', [key], {});\n",
       "      } catch (error) {\n",
       "        console.error('Error during call to suggestCharts:', error);\n",
       "      }\n",
       "      quickchartButtonEl.classList.remove('colab-df-spinner');\n",
       "      quickchartButtonEl.classList.add('colab-df-quickchart-complete');\n",
       "    }\n",
       "    (() => {\n",
       "      let quickchartButtonEl =\n",
       "        document.querySelector('#df-cf3ad84f-7de3-4438-923b-fd327122f025 button');\n",
       "      quickchartButtonEl.style.display =\n",
       "        google.colab.kernel.accessAllowed ? 'block' : 'none';\n",
       "    })();\n",
       "  </script>\n",
       "</div>\n",
       "\n",
       "    </div>\n",
       "  </div>\n"
      ],
      "text/plain": [
       "   transaction_id     date ID  amount  category      type payment_method  \\\n",
       "0               1  2024-11-01   80000   Ăn uống  Chi tiêu       Tiền mặt   \n",
       "1               2  2024-11-02  150000    Đi lại  Chi tiêu   Thẻ tín dụng   \n",
       "2               3  2024-11-03  200000  Giải trí  Chi tiêu     Ví điện tử   \n",
       "3               4  2024-11-04   50000   Ăn uống  Chi tiêu       Tiền mặt   \n",
       "4               5  2024-11-05  100000   Học tập  Chi tiêu   Chuyển khoản   \n",
       "\n",
       "       description    status note  \n",
       "0      Ăn sáng phở  Hoàn tất       \n",
       "1   Đổ xăng xe máy  Hoàn tất       \n",
       "2  Mua vé xem phim  Hoàn tất       \n",
       "3      Uống cà phê  Hoàn tất       \n",
       "4         Mua sách  Hoàn tất       "
      ]
     },
     "execution_count": 3,
     "metadata": {},
     "output_type": "execute_result"
    }
   ],
   "source": [
    "conn = sqlite3.connect(\"personal_expenses.db\")\n",
    "cursor = conn.cursor()\n",
    "\n",
    "query = \"SELECT * FROM expenses\"\n",
    "cursor.execute(query)\n",
    "data = cursor.fetchall()\n",
    "\n",
    "df = pd.DataFrame(data)\n",
    "df.columns = [\"transaction_id\", \"date ID\", \"amount\", \"category\", \"type\", \"payment_method\", \"description\", \"status\", \"note\"]\n",
    "df.head(5)"
   ]
  },
  {
   "cell_type": "markdown",
   "id": "b9a03af4-5cdf-41ae-93a4-3ed4d996aea8",
   "metadata": {
    "id": "b9a03af4-5cdf-41ae-93a4-3ed4d996aea8"
   },
   "source": [
    "# 2.Create SQL Agent"
   ]
  },
  {
   "cell_type": "code",
   "execution_count": null,
   "id": "bshVu8AOmoC2",
   "metadata": {
    "id": "bshVu8AOmoC2"
   },
   "outputs": [],
   "source": [
    "!pip install langchain_community==0.3.13\n",
    "!pip install langchain_openai==0.2.14"
   ]
  },
  {
   "cell_type": "code",
   "execution_count": 7,
   "id": "4101617c-0990-4938-9205-ece84a8490d9",
   "metadata": {
    "executionInfo": {
     "elapsed": 1533,
     "status": "ok",
     "timestamp": 1735043770946,
     "user": {
      "displayName": "LUC NGUYEN MANH",
      "userId": "17963881608411381207"
     },
     "user_tz": -540
    },
    "id": "4101617c-0990-4938-9205-ece84a8490d9"
   },
   "outputs": [],
   "source": [
    "from langchain_community.agent_toolkits import create_sql_agent\n",
    "from langchain_openai import ChatOpenAI\n",
    "from langchain_community.utilities import SQLDatabase\n",
    "\n",
    "# step 1. define model\n",
    "llm = ChatOpenAI(model=\"gpt-3.5-turbo\", temperature=0, api_key=openai_api_key)\n",
    "\n",
    "# step 2. connect to db\n",
    "db = SQLDatabase.from_uri(\"sqlite:///personal_expenses.db\")\n",
    "\n",
    "# Step 3. sql agent\n",
    "agent_executor = create_sql_agent(llm, db=db, agent_type=\"openai-tools\", verbose=True)"
   ]
  },
  {
   "cell_type": "code",
   "execution_count": 8,
   "id": "ba65d9f3-4ded-4e5c-abd2-40f3dd035245",
   "metadata": {
    "colab": {
     "base_uri": "https://localhost:8080/"
    },
    "executionInfo": {
     "elapsed": 2402,
     "status": "ok",
     "timestamp": 1735043792400,
     "user": {
      "displayName": "LUC NGUYEN MANH",
      "userId": "17963881608411381207"
     },
     "user_tz": -540
    },
    "id": "ba65d9f3-4ded-4e5c-abd2-40f3dd035245",
    "outputId": "362a9946-aeab-4b67-861d-0230cfce136c"
   },
   "outputs": [
    {
     "name": "stdout",
     "output_type": "stream",
     "text": [
      "\n",
      "\n",
      "\u001b[1m> Entering new SQL Agent Executor chain...\u001b[0m\n",
      "\u001b[32;1m\u001b[1;3m\n",
      "Invoking: `sql_db_list_tables` with `{}`\n",
      "\n",
      "\n",
      "\u001b[0m\u001b[38;5;200m\u001b[1;3mexpenses\u001b[0m\u001b[32;1m\u001b[1;3m\n",
      "Invoking: `sql_db_schema` with `{'table_names': 'expenses'}`\n",
      "\n",
      "\n",
      "\u001b[0m\u001b[33;1m\u001b[1;3m\n",
      "CREATE TABLE expenses (\n",
      "\ttransaction_id INTEGER, \n",
      "\tdate TEXT, \n",
      "\tamount INTEGER, \n",
      "\tcategory TEXT, \n",
      "\ttype TEXT, \n",
      "\tpayment_method TEXT, \n",
      "\tdescription TEXT, \n",
      "\tstatus TEXT, \n",
      "\tnotes TEXT, \n",
      "\tPRIMARY KEY (transaction_id)\n",
      ")\n",
      "\n",
      "/*\n",
      "3 rows from expenses table:\n",
      "transaction_id\tdate\tamount\tcategory\ttype\tpayment_method\tdescription\tstatus\tnotes\n",
      "1\t2024-11-01\t80000\tĂn uống\tChi tiêu\tTiền mặt\tĂn sáng phở\tHoàn tất\t\n",
      "2\t2024-11-02\t150000\tĐi lại\tChi tiêu\tThẻ tín dụng\tĐổ xăng xe máy\tHoàn tất\t\n",
      "3\t2024-11-03\t200000\tGiải trí\tChi tiêu\tVí điện tử\tMua vé xem phim\tHoàn tất\t\n",
      "*/\u001b[0m\u001b[32;1m\u001b[1;3m\n",
      "Invoking: `sql_db_query` with `{'query': \"SELECT SUM(amount) AS total_expenses FROM expenses WHERE date = '2024-11-01'\"}`\n",
      "\n",
      "\n",
      "\u001b[0m\u001b[36;1m\u001b[1;3m[(80000,)]\u001b[0m\u001b[32;1m\u001b[1;3mTổng chi tiêu ngày 11/1/2024 là 80,000 đồng.\u001b[0m\n",
      "\n",
      "\u001b[1m> Finished chain.\u001b[0m\n"
     ]
    }
   ],
   "source": [
    "result = agent_executor.invoke(\"Cho tôi biết tổng chi tiêu ngày 11/1/2024 là bao nhiêu ? \")"
   ]
  },
  {
   "cell_type": "code",
   "execution_count": 9,
   "id": "d7e6b5ea-99f3-4c50-af36-7d7470b0036c",
   "metadata": {
    "colab": {
     "base_uri": "https://localhost:8080/"
    },
    "executionInfo": {
     "elapsed": 2543,
     "status": "ok",
     "timestamp": 1735043815252,
     "user": {
      "displayName": "LUC NGUYEN MANH",
      "userId": "17963881608411381207"
     },
     "user_tz": -540
    },
    "id": "d7e6b5ea-99f3-4c50-af36-7d7470b0036c",
    "outputId": "f3c87d58-9352-436e-b084-c8be62536ab3"
   },
   "outputs": [
    {
     "name": "stdout",
     "output_type": "stream",
     "text": [
      "\n",
      "\n",
      "\u001b[1m> Entering new SQL Agent Executor chain...\u001b[0m\n",
      "\u001b[32;1m\u001b[1;3m\n",
      "Invoking: `sql_db_list_tables` with `{}`\n",
      "\n",
      "\n",
      "\u001b[0m\u001b[38;5;200m\u001b[1;3mexpenses\u001b[0m\u001b[32;1m\u001b[1;3m\n",
      "Invoking: `sql_db_schema` with `{'table_names': 'expenses'}`\n",
      "\n",
      "\n",
      "\u001b[0m\u001b[33;1m\u001b[1;3m\n",
      "CREATE TABLE expenses (\n",
      "\ttransaction_id INTEGER, \n",
      "\tdate TEXT, \n",
      "\tamount INTEGER, \n",
      "\tcategory TEXT, \n",
      "\ttype TEXT, \n",
      "\tpayment_method TEXT, \n",
      "\tdescription TEXT, \n",
      "\tstatus TEXT, \n",
      "\tnotes TEXT, \n",
      "\tPRIMARY KEY (transaction_id)\n",
      ")\n",
      "\n",
      "/*\n",
      "3 rows from expenses table:\n",
      "transaction_id\tdate\tamount\tcategory\ttype\tpayment_method\tdescription\tstatus\tnotes\n",
      "1\t2024-11-01\t80000\tĂn uống\tChi tiêu\tTiền mặt\tĂn sáng phở\tHoàn tất\t\n",
      "2\t2024-11-02\t150000\tĐi lại\tChi tiêu\tThẻ tín dụng\tĐổ xăng xe máy\tHoàn tất\t\n",
      "3\t2024-11-03\t200000\tGiải trí\tChi tiêu\tVí điện tử\tMua vé xem phim\tHoàn tất\t\n",
      "*/\u001b[0m\u001b[32;1m\u001b[1;3m\n",
      "Invoking: `sql_db_query` with `{'query': \"SELECT SUM(amount) AS total_expenses FROM expenses WHERE date LIKE '2024-11%'\"}`\n",
      "\n",
      "\n",
      "\u001b[0m\u001b[36;1m\u001b[1;3m[(2180000,)]\u001b[0m\u001b[32;1m\u001b[1;3mTổng chi tiêu ngày trong tháng 11 là 2,180,000 đồng.\u001b[0m\n",
      "\n",
      "\u001b[1m> Finished chain.\u001b[0m\n"
     ]
    }
   ],
   "source": [
    "result = agent_executor.invoke(\"Cho tôi biết tổng chi tiêu ngày trong tháng 11 ? \")"
   ]
  },
  {
   "cell_type": "code",
   "execution_count": 10,
   "id": "c64d732a-ab40-4375-9c77-00ea0d3f6dbf",
   "metadata": {
    "colab": {
     "base_uri": "https://localhost:8080/"
    },
    "executionInfo": {
     "elapsed": 2791,
     "status": "ok",
     "timestamp": 1735043830785,
     "user": {
      "displayName": "LUC NGUYEN MANH",
      "userId": "17963881608411381207"
     },
     "user_tz": -540
    },
    "id": "c64d732a-ab40-4375-9c77-00ea0d3f6dbf",
    "outputId": "798205f9-869b-47f8-9eb8-6e36ca07c069"
   },
   "outputs": [
    {
     "name": "stdout",
     "output_type": "stream",
     "text": [
      "\n",
      "\n",
      "\u001b[1m> Entering new SQL Agent Executor chain...\u001b[0m\n",
      "\u001b[32;1m\u001b[1;3m\n",
      "Invoking: `sql_db_list_tables` with `{}`\n",
      "\n",
      "\n",
      "\u001b[0m\u001b[38;5;200m\u001b[1;3mexpenses\u001b[0m\u001b[32;1m\u001b[1;3m\n",
      "Invoking: `sql_db_schema` with `{'table_names': 'expenses'}`\n",
      "\n",
      "\n",
      "\u001b[0m\u001b[33;1m\u001b[1;3m\n",
      "CREATE TABLE expenses (\n",
      "\ttransaction_id INTEGER, \n",
      "\tdate TEXT, \n",
      "\tamount INTEGER, \n",
      "\tcategory TEXT, \n",
      "\ttype TEXT, \n",
      "\tpayment_method TEXT, \n",
      "\tdescription TEXT, \n",
      "\tstatus TEXT, \n",
      "\tnotes TEXT, \n",
      "\tPRIMARY KEY (transaction_id)\n",
      ")\n",
      "\n",
      "/*\n",
      "3 rows from expenses table:\n",
      "transaction_id\tdate\tamount\tcategory\ttype\tpayment_method\tdescription\tstatus\tnotes\n",
      "1\t2024-11-01\t80000\tĂn uống\tChi tiêu\tTiền mặt\tĂn sáng phở\tHoàn tất\t\n",
      "2\t2024-11-02\t150000\tĐi lại\tChi tiêu\tThẻ tín dụng\tĐổ xăng xe máy\tHoàn tất\t\n",
      "3\t2024-11-03\t200000\tGiải trí\tChi tiêu\tVí điện tử\tMua vé xem phim\tHoàn tất\t\n",
      "*/\u001b[0m\u001b[32;1m\u001b[1;3m\n",
      "Invoking: `sql_db_query` with `{'query': \"SELECT category, SUM(amount) AS total_amount FROM expenses WHERE date LIKE '2024-11%' GROUP BY category\"}`\n",
      "\n",
      "\n",
      "\u001b[0m\u001b[36;1m\u001b[1;3m[('Giải trí', 470000), ('Học tập', 300000), ('Mua sắm', 350000), ('Ăn uống', 720000), ('Đi lại', 340000)]\u001b[0m\u001b[32;1m\u001b[1;3mThe expenses for November are as follows:\n",
      "- Giải trí: 470,000\n",
      "- Học tập: 300,000\n",
      "- Mua sắm: 350,000\n",
      "- Ăn uống: 720,000\n",
      "- Đi lại: 340,000\u001b[0m\n",
      "\n",
      "\u001b[1m> Finished chain.\u001b[0m\n"
     ]
    }
   ],
   "source": [
    "result = agent_executor.invoke(\"Thống kê chi tiêu tháng 11 theo từng danh mục  \")"
   ]
  }
 ],
 "metadata": {
  "colab": {
   "provenance": [],
   "toc_visible": true
  },
  "kernelspec": {
   "display_name": "Python 3 (ipykernel)",
   "language": "python",
   "name": "python3"
  },
  "language_info": {
   "codemirror_mode": {
    "name": "ipython",
    "version": 3
   },
   "file_extension": ".py",
   "mimetype": "text/x-python",
   "name": "python",
   "nbconvert_exporter": "python",
   "pygments_lexer": "ipython3",
   "version": "3.9.19"
  }
 },
 "nbformat": 4,
 "nbformat_minor": 5
}
